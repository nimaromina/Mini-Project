{
 "cells": [
  {
   "cell_type": "code",
   "execution_count": 4,
   "metadata": {},
   "outputs": [],
   "source": [
    "from playsound import playsound\n",
    "class Car:\n",
    "    engine_status = False\n",
    "    engine_condition = True\n",
    "    def __init__(self,color,model,maxspeed,numberofdoors):\n",
    "        self.color = color\n",
    "        self.model = model\n",
    "        self.maxspeed = maxspeed\n",
    "        self.number = numberofdoors\n",
    "    def start_eng(self):\n",
    "        if self.engine_condition:\n",
    "            if not self.engine_status:\n",
    "                playsound(\"enginestarting.mp3\")\n",
    "                self.engine_status = True\n",
    "            else:\n",
    "                print(\"gheehmmm pert pert\")\n",
    "\n",
    "        else:\n",
    "            print(\"you need to fix your car befor starting the engine\")\n",
    "benz = Car(\"abi\",\"s500\",400,2)\n"
   ]
  },
  {
   "cell_type": "code",
   "execution_count": 9,
   "metadata": {},
   "outputs": [
    {
     "name": "stdout",
     "output_type": "stream",
     "text": [
      "gheehmmm pert pert\n"
     ]
    }
   ],
   "source": [
    "benz.start_eng()"
   ]
  },
  {
   "cell_type": "code",
   "execution_count": 8,
   "metadata": {},
   "outputs": [
    {
     "data": {
      "text/plain": [
       "True"
      ]
     },
     "execution_count": 8,
     "metadata": {},
     "output_type": "execute_result"
    }
   ],
   "source": [
    "benz.engine_status"
   ]
  }
 ],
 "metadata": {
  "kernelspec": {
   "display_name": "Python 3",
   "language": "python",
   "name": "python3"
  },
  "language_info": {
   "codemirror_mode": {
    "name": "ipython",
    "version": 3
   },
   "file_extension": ".py",
   "mimetype": "text/x-python",
   "name": "python",
   "nbconvert_exporter": "python",
   "pygments_lexer": "ipython3",
   "version": "3.12.2"
  }
 },
 "nbformat": 4,
 "nbformat_minor": 2
}
