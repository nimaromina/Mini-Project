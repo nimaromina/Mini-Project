{
 "cells": [
  {
   "cell_type": "code",
   "execution_count": 10,
   "metadata": {},
   "outputs": [
    {
     "name": "stdout",
     "output_type": "stream",
     "text": [
      "2\n",
      "1\n",
      "3\n",
      "5\n"
     ]
    }
   ],
   "source": [
    "lst = [2,1,2,3,4,5,3,2,1,5,6,7,8,9]\n",
    "_dict = {}\n",
    "for i in lst:\n",
    "    if i not in _dict:\n",
    "        _dict[i] = 1\n",
    "        continue\n",
    "    _dict[i] += 1\n",
    "\n",
    "for key in _dict:\n",
    "    if _dict[key] > 1:\n",
    "        print(key)"
   ]
  },
  {
   "cell_type": "code",
   "execution_count": 12,
   "metadata": {},
   "outputs": [
    {
     "name": "stdout",
     "output_type": "stream",
     "text": [
      "[2, 1, 3, 5]\n"
     ]
    }
   ],
   "source": [
    "lst = [2,1,2,3,4,5,3,2,1,5,6,7,8,9]\n",
    "_dict = {}\n",
    "for i in lst:\n",
    "    if i not in _dict:\n",
    "        _dict[i] = 1\n",
    "        continue\n",
    "    _dict[i] += 1\n",
    "_lst = []\n",
    "for key in _dict:\n",
    "    if _dict[key] > 1:\n",
    "        _lst.append(key)\n",
    "print(_lst)"
   ]
  },
  {
   "cell_type": "code",
   "execution_count": 21,
   "metadata": {},
   "outputs": [
    {
     "name": "stdout",
     "output_type": "stream",
     "text": [
      "[2, 1, 3, 5]\n"
     ]
    }
   ],
   "source": [
    "lst = [2,1,2,3,4,5,3,2,1,5,6,7,8,9]\n",
    "_lst = []\n",
    "for i in range(len(lst)):\n",
    "    if lst[i] in lst[i+1:] and lst[i] not in _lst:\n",
    "        _lst.append(lst[i])\n",
    "print(_lst)"
   ]
  }
 ],
 "metadata": {
  "kernelspec": {
   "display_name": "Python 3",
   "language": "python",
   "name": "python3"
  },
  "language_info": {
   "codemirror_mode": {
    "name": "ipython",
    "version": 3
   },
   "file_extension": ".py",
   "mimetype": "text/x-python",
   "name": "python",
   "nbconvert_exporter": "python",
   "pygments_lexer": "ipython3",
   "version": "3.12.2"
  }
 },
 "nbformat": 4,
 "nbformat_minor": 2
}
