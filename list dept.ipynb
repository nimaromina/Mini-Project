{
 "cells": [
  {
   "cell_type": "code",
   "execution_count": null,
   "metadata": {},
   "outputs": [],
   "source": [
    "def list_dept(nested_list):\n",
    "    if not isinstance(nested_list, list):\n",
    "        return 0\n",
    "    max_dept = 1\n",
    "    for item in nested_list:\n",
    "        if isinstance(item,list):\n",
    "            dept = 1 + list_dept(item)\n",
    "            max_dept = max(max_dept,dept)\n",
    "    return max_dept"
   ]
  }
 ],
 "metadata": {
  "language_info": {
   "name": "python"
  }
 },
 "nbformat": 4,
 "nbformat_minor": 2
}
