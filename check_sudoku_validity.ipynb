{
 "cells": [
  {
   "cell_type": "code",
   "execution_count": 1,
   "metadata": {},
   "outputs": [],
   "source": [
    "board = [\n",
    "[\".\",\"2\",\".\",\".\",\".\",\".\",\".\",\".\",\"9\"],\n",
    "[\".\",\".\",\".\",\".\",\".\",\".\",\"9\",\".\",\".\"],\n",
    "[\".\",\".\",\"6\",\".\",\".\",\".\",\".\",\".\",\".\"],\n",
    "[\".\",\".\",\".\",\".\",\"4\",\".\",\".\",\".\",\".\"],\n",
    "[\".\",\".\",\".\",\".\",\".\",\".\",\".\",\".\",\".\"],\n",
    "[\".\",\".\",\".\",\".\",\".\",\".\",\".\",\".\",\".\"],\n",
    "[\".\",\".\",\".\",\".\",\".\",\".\",\".\",\".\",\".\"],\n",
    "[\".\",\"3\",\".\",\".\",\".\",\".\",\".\",\".\",\".\"],\n",
    "[\".\",\".\",\".\",\".\",\".\",\".\",\".\",\".\",\".\"],\n",
    "\n",
    "]"
   ]
  },
  {
   "cell_type": "code",
   "execution_count": 2,
   "metadata": {},
   "outputs": [],
   "source": [
    "def is_validate(lst):\n",
    "    nums = set()\n",
    "    for i in lst:\n",
    "        if i != '.' and i in nums:\n",
    "            return False\n",
    "        nums.add(i)\n",
    "    return True"
   ]
  },
  {
   "cell_type": "code",
   "execution_count": 3,
   "metadata": {},
   "outputs": [],
   "source": [
    "def  validate(board):\n",
    "    for row in board:\n",
    "        if not is_validate(row):\n",
    "            return False\n",
    "    for col in zip(* board):\n",
    "        if not is_validate(col):\n",
    "            return False\n",
    "    for r in range(0,9,3):\n",
    "        for c in range(0,9,3):\n",
    "            square = [board[x][y] for x in range(r,r+3) for y in range(c,c+3)]\n",
    "            if not is_validate(square):\n",
    "                return False\n",
    "\n",
    "    return True\n"
   ]
  },
  {
   "cell_type": "code",
   "execution_count": 4,
   "metadata": {},
   "outputs": [
    {
     "data": {
      "text/plain": [
       "False"
      ]
     },
     "execution_count": 4,
     "metadata": {},
     "output_type": "execute_result"
    }
   ],
   "source": [
    "validate(board)"
   ]
  }
 ],
 "metadata": {
  "kernelspec": {
   "display_name": "Python 3",
   "language": "python",
   "name": "python3"
  },
  "language_info": {
   "codemirror_mode": {
    "name": "ipython",
    "version": 3
   },
   "file_extension": ".py",
   "mimetype": "text/x-python",
   "name": "python",
   "nbconvert_exporter": "python",
   "pygments_lexer": "ipython3",
   "version": "3.12.2"
  }
 },
 "nbformat": 4,
 "nbformat_minor": 2
}
