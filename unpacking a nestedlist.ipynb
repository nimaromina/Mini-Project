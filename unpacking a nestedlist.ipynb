{
 "cells": [
  {
   "cell_type": "code",
   "execution_count": 1,
   "metadata": {},
   "outputs": [],
   "source": [
    "def flatten(nested_list):\n",
    "    lst = []\n",
    "    for item in nested_list:\n",
    "        if isinstance(item,list):\n",
    "            lst.extend(flatten(item))\n",
    "        else:\n",
    "            lst.append(item)\n",
    "    return lst"
   ]
  },
  {
   "cell_type": "code",
   "execution_count": 2,
   "metadata": {},
   "outputs": [
    {
     "name": "stdout",
     "output_type": "stream",
     "text": [
      "[2, 3, 1, 4, 7, 9, 2, 3, 4, 2, 3, 6, 5, 4]\n"
     ]
    }
   ],
   "source": [
    "print(flatten([2,[3,1],[4,[7,9]],[2,3,4,[2,3,[6,5,4]]]]))"
   ]
  }
 ],
 "metadata": {
  "kernelspec": {
   "display_name": "Python 3",
   "language": "python",
   "name": "python3"
  },
  "language_info": {
   "codemirror_mode": {
    "name": "ipython",
    "version": 3
   },
   "file_extension": ".py",
   "mimetype": "text/x-python",
   "name": "python",
   "nbconvert_exporter": "python",
   "pygments_lexer": "ipython3",
   "version": "3.12.2"
  }
 },
 "nbformat": 4,
 "nbformat_minor": 2
}
