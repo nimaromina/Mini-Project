{
 "cells": [
  {
   "cell_type": "code",
   "execution_count": 4,
   "metadata": {},
   "outputs": [
    {
     "name": "stdout",
     "output_type": "stream",
     "text": [
      "01110010\n"
     ]
    }
   ],
   "source": [
    "_str = \"1010111001001100001110010\"\n",
    "n = len(_str)\n",
    "i = j = 0\n",
    "longest_str = _str[0]\n",
    "cur = [_str[0]]\n",
    "while i < n:\n",
    "    _cur = \"\".join(cur)\n",
    "    if _cur in _str[j+1:]:\n",
    "        if len(longest_str)<len(_cur):\n",
    "            longest_str = _cur\n",
    "        j += 1\n",
    "        cur.append(_str[j])\n",
    "    else:\n",
    "        cur.pop(0)\n",
    "        i += 1\n",
    "print(longest_str)\n"
   ]
  }
 ],
 "metadata": {
  "kernelspec": {
   "display_name": "Python 3",
   "language": "python",
   "name": "python3"
  },
  "language_info": {
   "codemirror_mode": {
    "name": "ipython",
    "version": 3
   },
   "file_extension": ".py",
   "mimetype": "text/x-python",
   "name": "python",
   "nbconvert_exporter": "python",
   "pygments_lexer": "ipython3",
   "version": "3.12.2"
  }
 },
 "nbformat": 4,
 "nbformat_minor": 2
}
