{
 "cells": [
  {
   "cell_type": "code",
   "execution_count": null,
   "metadata": {},
   "outputs": [],
   "source": [
    "def if_prime(x):\n",
    "    if (x<2 or x%2==0) and x!=2:\n",
    "        return False\n",
    "    elif x==2:\n",
    "        return True\n",
    "    i = 2\n",
    "    length = x//2\n",
    "    while i<length:\n",
    "        if x%i==0:\n",
    "            return False\n",
    "        i +=1\n",
    "    return True"
   ]
  },
  {
   "cell_type": "code",
   "execution_count": 18,
   "metadata": {},
   "outputs": [],
   "source": [
    "def find_prime(x,d):\n",
    "    x+=d\n",
    "    while not if_prime(x):\n",
    "        if x<=1 and d<0:\n",
    "            return \"no prime number\"\n",
    "        i +=d\n",
    "        return x"
   ]
  },
  {
   "cell_type": "code",
   "execution_count": 19,
   "metadata": {},
   "outputs": [],
   "source": [
    "def mainf(x):\n",
    "    x = round(abs(x))\n",
    "    if if_prime(x):\n",
    "        print(x)\n",
    "        print(find_prime(x,1))\n",
    "    else:\n",
    "        print(find_prime(x,-1))\n",
    "        print(find_prime(x,1))"
   ]
  }
 ],
 "metadata": {
  "kernelspec": {
   "display_name": "Python 3",
   "language": "python",
   "name": "python3"
  },
  "language_info": {
   "codemirror_mode": {
    "name": "ipython",
    "version": 3
   },
   "file_extension": ".py",
   "mimetype": "text/x-python",
   "name": "python",
   "nbconvert_exporter": "python",
   "pygments_lexer": "ipython3",
   "version": "3.12.2"
  }
 },
 "nbformat": 4,
 "nbformat_minor": 2
}
