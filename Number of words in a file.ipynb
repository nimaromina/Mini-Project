{
 "cells": [
  {
   "cell_type": "code",
   "execution_count": 30,
   "metadata": {},
   "outputs": [
    {
     "name": "stdout",
     "output_type": "stream",
     "text": [
      "could not find 'asd.txt' in the curent directory.\n"
     ]
    }
   ],
   "source": [
    "try:\n",
    "    file_name = input(\"please enter your file name\")\n",
    "    with open(file_name,\"r\") as file:\n",
    "        content = file.readlines()\n",
    "        content = [i.strip() for i in content]\n",
    "        content = [[j for j in i] for i in content]\n",
    "        _str = \"\"\n",
    "        for i in range(len(content)):\n",
    "            _str = \"\"\n",
    "            for j in content[i]:\n",
    "                if ord(j) in range(97,129) or ord(j) in range(65,91) or j==\" \":\n",
    "                    _str+=j\n",
    "            content[i]=_str\n",
    "        _dict = {}\n",
    "        for i in content:\n",
    "            for word in i.split(\" \"):\n",
    "                if word in _dict:\n",
    "                    _dict[word] += 1\n",
    "                else:\n",
    "                    _dict[word]=1\n",
    "        print(_dict)\n",
    "except FileNotFoundError:\n",
    "    print(f\"could not find '{file_name}' in the curent directory.\")"
   ]
  }
 ],
 "metadata": {
  "kernelspec": {
   "display_name": "Python 3",
   "language": "python",
   "name": "python3"
  },
  "language_info": {
   "codemirror_mode": {
    "name": "ipython",
    "version": 3
   },
   "file_extension": ".py",
   "mimetype": "text/x-python",
   "name": "python",
   "nbconvert_exporter": "python",
   "pygments_lexer": "ipython3",
   "version": "3.12.2"
  }
 },
 "nbformat": 4,
 "nbformat_minor": 2
}
