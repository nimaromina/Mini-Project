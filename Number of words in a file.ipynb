{
 "cells": [
  {
   "cell_type": "code",
   "execution_count": 32,
   "metadata": {},
   "outputs": [
    {
     "name": "stdout",
     "output_type": "stream",
     "text": [
      "{'Python': 1, 'was': 2, 'invented': 1, 'in': 3, 'the': 4, 'late': 1, 's': 1, 'by': 2, 'Guido': 1, 'van': 1, 'Rossum': 1, 'at': 1, 'Centrum': 1, 'Wiskunde': 1, '': 2, 'Informatica': 1, 'CWI': 1, 'Netherlands': 1, 'as': 1, 'a': 1, 'successor': 1, 'to': 1, 'ABC': 1, 'programming': 1, 'language': 1, 'which': 1, 'inspired': 1, 'SETL': 1, 'capable': 1, 'of': 1, 'exception': 1, 'handling': 1, 'and': 1, 'interfacing': 1, 'with': 1, 'Amoeba': 1, 'operating': 1, 'system': 1, 'Its': 1, 'implementation': 1, 'began': 1, 'December': 1}\n"
     ]
    }
   ],
   "source": [
    "try:\n",
    "    file_name = input(\"please enter your file name\")\n",
    "    with open(file_name,\"r\") as file:\n",
    "        content = file.readlines()\n",
    "        content = [i.strip() for i in content]\n",
    "        content = [[j for j in i] for i in content]\n",
    "        _str = \"\"\n",
    "    for i in range(len(content)):\n",
    "        _str = \"\"\n",
    "        for j in content[i]:\n",
    "             if ord(j) in range(97,129) or ord(j) in range(65,91) or j==\" \":\n",
    "                _str+=j\n",
    "        content[i]=_str\n",
    "    _dict = {}\n",
    "    for i in content:\n",
    "        for word in i.split(\" \"):\n",
    "            if word in _dict:\n",
    "                _dict[word] += 1\n",
    "            else:\n",
    "                _dict[word]=1\n",
    "    print(_dict)\n",
    "except FileNotFoundError:\n",
    "    print(f\"could not find '{file_name}' in the curent directory.\")"
   ]
  }
 ],
 "metadata": {
  "kernelspec": {
   "display_name": "Python 3",
   "language": "python",
   "name": "python3"
  },
  "language_info": {
   "codemirror_mode": {
    "name": "ipython",
    "version": 3
   },
   "file_extension": ".py",
   "mimetype": "text/x-python",
   "name": "python",
   "nbconvert_exporter": "python",
   "pygments_lexer": "ipython3",
   "version": "3.12.2"
  }
 },
 "nbformat": 4,
 "nbformat_minor": 2
}
