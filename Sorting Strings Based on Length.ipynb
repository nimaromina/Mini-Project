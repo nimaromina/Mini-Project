{
 "cells": [
  {
   "cell_type": "code",
   "execution_count": null,
   "metadata": {},
   "outputs": [
    {
     "name": "stdout",
     "output_type": "stream",
     "text": [
      "['ASUSS', 'DELL', 'MSI', 'HP']\n"
     ]
    }
   ],
   "source": [
    "lst = [\"HP\",\"DELL\",\"ASUSS\",\"MSI\"]\n",
    "length = len(lst)\n",
    "for i in range(length-1):\n",
    "    _max = i\n",
    "    for j in range(i+1,length):\n",
    "        if len(lst[_max])<len(lst[j]):\n",
    "            _max = j\n",
    "    lst[i],lst[_max]=lst[_max],lst[i]\n",
    "print(lst)\n"
   ]
  },
  {
   "cell_type": "code",
   "execution_count": 14,
   "metadata": {},
   "outputs": [
    {
     "name": "stdout",
     "output_type": "stream",
     "text": [
      "['584654', '56454', '58464', '465', '32']\n"
     ]
    }
   ],
   "source": [
    "lst = []\n",
    "n = int(input(\"please enter the number of list\"))\n",
    "for i in range(n):\n",
    "    lst.append(input(\"please enter name of your object\"))\n",
    "length = len(lst)\n",
    "for i in range(length-1):\n",
    "    _max = i\n",
    "    for j in range(i+1,length):\n",
    "        if len(lst[_max])<len(lst[j]):\n",
    "            _max = j\n",
    "    lst[i],lst[_max]=lst[_max],lst[i]\n",
    "print(lst)\n"
   ]
  }
 ],
 "metadata": {
  "kernelspec": {
   "display_name": "Python 3",
   "language": "python",
   "name": "python3"
  },
  "language_info": {
   "codemirror_mode": {
    "name": "ipython",
    "version": 3
   },
   "file_extension": ".py",
   "mimetype": "text/x-python",
   "name": "python",
   "nbconvert_exporter": "python",
   "pygments_lexer": "ipython3",
   "version": "3.12.2"
  }
 },
 "nbformat": 4,
 "nbformat_minor": 2
}
