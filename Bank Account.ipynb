{
 "cells": [
  {
   "cell_type": "code",
   "execution_count": 2,
   "metadata": {},
   "outputs": [],
   "source": [
    "class Account:\n",
    "    def __init__(self, balance,owner=\"\"):\n",
    "        self.owner = owner or \"No Name\"\n",
    "        self.balance = balance if balance >= 0 else 0\n",
    "\n",
    "    def deposit(self, amount):\n",
    "        self.balance += amount if amount >0 else 0\n",
    "    \n",
    "    def withdraw(self, amount):\n",
    "        if amount >= 0:\n",
    "            if self.balance >= amount:\n",
    "                self.balance -= amount\n",
    "            else:\n",
    "                print(\"insufficient fouds\")\n",
    "        else:\n",
    "            print(\"Acount shoud not be negetive number.\")\n"
   ]
  },
  {
   "cell_type": "code",
   "execution_count": 9,
   "metadata": {},
   "outputs": [],
   "source": [
    "class Bank:\n",
    "    def __init__(self):\n",
    "        self.accounts = {}\n",
    "        self.id = 1\n",
    "    def new_saving(self,acc):\n",
    "        self.accounts[self.id] = acc\n",
    "        self.id+=1"
   ]
  },
  {
   "cell_type": "code",
   "execution_count": 13,
   "metadata": {},
   "outputs": [],
   "source": [
    "mellat = Bank()\n",
    "mellat.new_saving(Account(600,\"sama\"))\n",
    "mellat.new_saving(Account(400,\"armit\"))\n",
    "mellat.new_saving(Account(1600,\"sara\"))\n",
    "mellat.new_saving(Account(800,\"mani\"))"
   ]
  },
  {
   "cell_type": "code",
   "execution_count": 15,
   "metadata": {},
   "outputs": [
    {
     "data": {
      "text/plain": [
       "{1: <__main__.Account at 0x165b55682c0>,\n",
       " 2: <__main__.Account at 0x165b5568ce0>,\n",
       " 3: <__main__.Account at 0x165b5568950>,\n",
       " 4: <__main__.Account at 0x165b5568560>}"
      ]
     },
     "execution_count": 15,
     "metadata": {},
     "output_type": "execute_result"
    }
   ],
   "source": [
    "mellat.accounts"
   ]
  },
  {
   "cell_type": "code",
   "execution_count": 18,
   "metadata": {},
   "outputs": [
    {
     "data": {
      "text/plain": [
       "'sara'"
      ]
     },
     "execution_count": 18,
     "metadata": {},
     "output_type": "execute_result"
    }
   ],
   "source": [
    "mellat.accounts[3].owner"
   ]
  }
 ],
 "metadata": {
  "kernelspec": {
   "display_name": "Python 3",
   "language": "python",
   "name": "python3"
  },
  "language_info": {
   "codemirror_mode": {
    "name": "ipython",
    "version": 3
   },
   "file_extension": ".py",
   "mimetype": "text/x-python",
   "name": "python",
   "nbconvert_exporter": "python",
   "pygments_lexer": "ipython3",
   "version": "3.12.2"
  }
 },
 "nbformat": 4,
 "nbformat_minor": 2
}
