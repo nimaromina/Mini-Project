{
 "cells": [
  {
   "cell_type": "code",
   "execution_count": 4,
   "metadata": {},
   "outputs": [
    {
     "name": "stdout",
     "output_type": "stream",
     "text": [
      "[1, 2, 3, 4, 4, 5, 6, 7, 8]\n"
     ]
    }
   ],
   "source": [
    "lst1= [1,3,4,4]\n",
    "lst2 = [2,5,6,7,8]\n",
    "_lst = []\n",
    "ln1 = len(lst1)\n",
    "ln2 = len(lst2)\n",
    "i = j = 0\n",
    "while i < ln1 and j < ln2:\n",
    "    if lst1[i] < lst2[j]:\n",
    "        _lst.append(lst1[i])\n",
    "        i += 1\n",
    "    else:\n",
    "        _lst.append(lst2[j])\n",
    "        j += 1\n",
    "_lst += lst1[i:]\n",
    "_lst += lst2[j:]\n",
    "print(_lst)"
   ]
  }
 ],
 "metadata": {
  "kernelspec": {
   "display_name": "Python 3",
   "language": "python",
   "name": "python3"
  },
  "language_info": {
   "codemirror_mode": {
    "name": "ipython",
    "version": 3
   },
   "file_extension": ".py",
   "mimetype": "text/x-python",
   "name": "python",
   "nbconvert_exporter": "python",
   "pygments_lexer": "ipython3",
   "version": "3.12.2"
  }
 },
 "nbformat": 4,
 "nbformat_minor": 2
}
