{
 "cells": [
  {
   "cell_type": "code",
   "execution_count": 5,
   "metadata": {},
   "outputs": [],
   "source": [
    "class vehicle:\n",
    "    def __init__(self,color,model,wheels):\n",
    "        self.color = color\n",
    "        self.model = model\n",
    "        self.wheels = wheels\n",
    "    def get_info(self):\n",
    "        print(f\"model:{self.model}\")\n",
    "        print(f\"color:{self.color}\")\n",
    "        print(f\"number of wheels:{self.wheels}\")\n",
    "class car(vehicle):\n",
    "    def __init__(self,c,m,w,typ,eng):\n",
    "        super().__init__(c,m,w)\n",
    "        self.typ = typ\n",
    "        self.engine = eng\n",
    "    def get_info(self):\n",
    "        print(\"car\")\n",
    "        super().get_info()\n",
    "        print(f\"type:{self.typ}\")\n",
    "        print(f\"engine:{self.engine}\")\n",
    "class motorbike(vehicle):\n",
    "    def __init__(self,c,m,w,passengers):\n",
    "        super().__init__(c,m,w)\n",
    "        self.p = passengers\n",
    "    def get_info(self):\n",
    "        print('motorbike')\n",
    "        super().get_info()\n",
    "        print(\"number of passerngers:{self.p}\")\n",
    "    \n",
    "class Truck(vehicle):\n",
    "    def __init__(self,c,m,w,load):\n",
    "        super().__init__(c,m,w)\n",
    "        self.p = load\n",
    "    def get_info(self):\n",
    "        print('Truck')\n",
    "        super().get_info()\n",
    "        print(f\"load capacity in lbs:{self.load}\")"
   ]
  },
  {
   "cell_type": "code",
   "execution_count": 6,
   "metadata": {},
   "outputs": [],
   "source": [
    "pride = car(\"white\",1385,4,\"sedan\",\"gas&cng\")\n",
    "honda = motorbike(\"black\",1396,2,2)\n",
    "benz = Truck(\"orange\",1360,10,10000)"
   ]
  },
  {
   "cell_type": "code",
   "execution_count": 7,
   "metadata": {},
   "outputs": [
    {
     "name": "stdout",
     "output_type": "stream",
     "text": [
      "car\n",
      "model:1385\n",
      "color:white\n",
      "number of wheels:4\n",
      "type:sedan\n",
      "engine:gas&cng\n",
      "--------------\n",
      "motorbike\n",
      "model:1396\n",
      "color:black\n",
      "number of wheels:2\n",
      "number of passerngers:{self.p}\n",
      "--------------\n",
      "Truck\n",
      "model:1360\n",
      "color:orange\n",
      "number of wheels:10\n"
     ]
    },
    {
     "ename": "AttributeError",
     "evalue": "'Truck' object has no attribute 'load'",
     "output_type": "error",
     "traceback": [
      "\u001b[1;31m---------------------------------------------------------------------------\u001b[0m",
      "\u001b[1;31mAttributeError\u001b[0m                            Traceback (most recent call last)",
      "Cell \u001b[1;32mIn[7], line 5\u001b[0m\n\u001b[0;32m      3\u001b[0m honda\u001b[38;5;241m.\u001b[39mget_info()\n\u001b[0;32m      4\u001b[0m \u001b[38;5;28mprint\u001b[39m(\u001b[38;5;124m\"\u001b[39m\u001b[38;5;124m--------------\u001b[39m\u001b[38;5;124m\"\u001b[39m)\n\u001b[1;32m----> 5\u001b[0m \u001b[43mbenz\u001b[49m\u001b[38;5;241;43m.\u001b[39;49m\u001b[43mget_info\u001b[49m\u001b[43m(\u001b[49m\u001b[43m)\u001b[49m\n",
      "Cell \u001b[1;32mIn[5], line 36\u001b[0m, in \u001b[0;36mTruck.get_info\u001b[1;34m(self)\u001b[0m\n\u001b[0;32m     34\u001b[0m \u001b[38;5;28mprint\u001b[39m(\u001b[38;5;124m'\u001b[39m\u001b[38;5;124mTruck\u001b[39m\u001b[38;5;124m'\u001b[39m)\n\u001b[0;32m     35\u001b[0m \u001b[38;5;28msuper\u001b[39m()\u001b[38;5;241m.\u001b[39mget_info()\n\u001b[1;32m---> 36\u001b[0m \u001b[38;5;28mprint\u001b[39m(\u001b[38;5;124mf\u001b[39m\u001b[38;5;124m\"\u001b[39m\u001b[38;5;124mload capacity in lbs:\u001b[39m\u001b[38;5;132;01m{\u001b[39;00m\u001b[38;5;28;43mself\u001b[39;49m\u001b[38;5;241;43m.\u001b[39;49m\u001b[43mload\u001b[49m\u001b[38;5;132;01m}\u001b[39;00m\u001b[38;5;124m\"\u001b[39m)\n",
      "\u001b[1;31mAttributeError\u001b[0m: 'Truck' object has no attribute 'load'"
     ]
    }
   ],
   "source": [
    "pride.get_info()\n",
    "print(\"--------------\")\n",
    "honda.get_info()\n",
    "print(\"--------------\")\n",
    "benz.get_info()"
   ]
  }
 ],
 "metadata": {
  "kernelspec": {
   "display_name": "Python 3",
   "language": "python",
   "name": "python3"
  },
  "language_info": {
   "codemirror_mode": {
    "name": "ipython",
    "version": 3
   },
   "file_extension": ".py",
   "mimetype": "text/x-python",
   "name": "python",
   "nbconvert_exporter": "python",
   "pygments_lexer": "ipython3",
   "version": "3.12.2"
  }
 },
 "nbformat": 4,
 "nbformat_minor": 2
}
