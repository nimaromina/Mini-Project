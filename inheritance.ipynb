{
 "cells": [
  {
   "cell_type": "code",
   "execution_count": 9,
   "metadata": {},
   "outputs": [],
   "source": [
    "class vehicle:\n",
    "    def __init__(self,color,model,wheels):\n",
    "        self.color = color\n",
    "        self.model = model\n",
    "        self.wheels = wheels\n",
    "    def get_info(self):\n",
    "        print(f\"model:{self.model}\")\n",
    "        print(f\"color:{self.color}\")\n",
    "        print(f\"number of wheels:{self.wheels}\")\n",
    "class car(vehicle):\n",
    "    def __init__(self,c,m,w,typ,eng):\n",
    "        super().__init__(c,m,w)\n",
    "        self.typ = typ\n",
    "        self.engine = eng\n",
    "    def get_info(self):\n",
    "        print(\"car\")\n",
    "        super().get_info()\n",
    "        print(f\"type:{self.typ}\")\n",
    "        print(f\"engine:{self.engine}\")\n",
    "class motorbike(vehicle):\n",
    "    def __init__(self,c,m,w,passengers):\n",
    "        super().__init__(c,m,w)\n",
    "        self.p = passengers\n",
    "    def get_info(self):\n",
    "        print('motorbike')\n",
    "        super().get_info()\n",
    "        print(\"number of passerngers:{self.p}\")\n",
    "    \n",
    "class Truck(vehicle):\n",
    "    def __init__(self,c,m,w,load):\n",
    "        super().__init__(c,m,w)\n",
    "        self.load = load\n",
    "    def get_info(self):\n",
    "        print('Truck')\n",
    "        super().get_info()\n",
    "        print(f\"load capacity in lbs:{self.load}\")"
   ]
  },
  {
   "cell_type": "code",
   "execution_count": 10,
   "metadata": {},
   "outputs": [],
   "source": [
    "pride = car(\"white\",1385,4,\"sedan\",\"gas&cng\")\n",
    "honda = motorbike(\"black\",1396,2,2)\n",
    "benz = Truck(\"orange\",1360,10,10000)"
   ]
  },
  {
   "cell_type": "code",
   "execution_count": 11,
   "metadata": {},
   "outputs": [
    {
     "name": "stdout",
     "output_type": "stream",
     "text": [
      "car\n",
      "model:1385\n",
      "color:white\n",
      "number of wheels:4\n",
      "type:sedan\n",
      "engine:gas&cng\n",
      "--------------\n",
      "motorbike\n",
      "model:1396\n",
      "color:black\n",
      "number of wheels:2\n",
      "number of passerngers:{self.p}\n",
      "--------------\n",
      "Truck\n",
      "model:1360\n",
      "color:orange\n",
      "number of wheels:10\n",
      "load capacity in lbs:10000\n"
     ]
    }
   ],
   "source": [
    "pride.get_info()\n",
    "print(\"--------------\")\n",
    "honda.get_info()\n",
    "print(\"--------------\")\n",
    "benz.get_info()"
   ]
  }
 ],
 "metadata": {
  "kernelspec": {
   "display_name": "Python 3",
   "language": "python",
   "name": "python3"
  },
  "language_info": {
   "codemirror_mode": {
    "name": "ipython",
    "version": 3
   },
   "file_extension": ".py",
   "mimetype": "text/x-python",
   "name": "python",
   "nbconvert_exporter": "python",
   "pygments_lexer": "ipython3",
   "version": "3.12.2"
  }
 },
 "nbformat": 4,
 "nbformat_minor": 2
}
