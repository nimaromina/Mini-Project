{
 "cells": [
  {
   "cell_type": "code",
   "execution_count": 1,
   "metadata": {},
   "outputs": [],
   "source": [
    "from math import sqrt"
   ]
  },
  {
   "cell_type": "code",
   "execution_count": 6,
   "metadata": {},
   "outputs": [
    {
     "name": "stdout",
     "output_type": "stream",
     "text": [
      "['B', 3, 'B', 'B', 0, 4, 'B', 'B', 'B', 5, 4, 2, 'B', 'B', 'B', 1]\n"
     ]
    }
   ],
   "source": [
    "_lst =[]\n",
    "lst = [1,0,1,1,0,0,1,1,1,0,0,0,1,1,1,0]\n",
    "n = int(sqrt(len(lst)))\n",
    "for x in range(len(lst)):\n",
    "    i = x//n\n",
    "    j = x%n\n",
    "    if lst[x]!=0:\n",
    "        _lst.append(\"B\")\n",
    "    else:\n",
    "        min_i = i if i==0 else i-1\n",
    "        min_j = i if j==0 else j-1\n",
    "        max_i = i if i==n-1 else i+1\n",
    "        max_j = i if j==n-1 else j+1\n",
    "        c=0\n",
    "        for f in range(min_i,max_i+1):\n",
    "            for g in range(min_j,max_j+1):\n",
    "                s = f * n + g\n",
    "                if lst[s]:\n",
    "                    c+=1\n",
    "        _lst.append(c)\n",
    "print(_lst)\n"
   ]
  }
 ],
 "metadata": {
  "kernelspec": {
   "display_name": "Python 3",
   "language": "python",
   "name": "python3"
  },
  "language_info": {
   "codemirror_mode": {
    "name": "ipython",
    "version": 3
   },
   "file_extension": ".py",
   "mimetype": "text/x-python",
   "name": "python",
   "nbconvert_exporter": "python",
   "pygments_lexer": "ipython3",
   "version": "3.12.2"
  }
 },
 "nbformat": 4,
 "nbformat_minor": 2
}
