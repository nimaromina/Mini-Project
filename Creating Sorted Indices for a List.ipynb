{
 "cells": [
  {
   "cell_type": "code",
   "execution_count": 2,
   "metadata": {},
   "outputs": [
    {
     "name": "stdout",
     "output_type": "stream",
     "text": [
      "[2, 0, 3, 1, 4, 5, 8, 7, 9]\n"
     ]
    }
   ],
   "source": [
    "def argsort(_list):\n",
    "    _list = _list[::]\n",
    "    _max = max(_list)+1\n",
    "    n = len(_list)\n",
    "    lst = []\n",
    "    for i in range(n):\n",
    "        _min = _list.index(min(_list))\n",
    "        lst.append(_min)\n",
    "        _list[_min] = _max\n",
    "    return lst"
   ]
  },
  {
   "cell_type": "code",
   "execution_count": 4,
   "metadata": {},
   "outputs": [
    {
     "name": "stdout",
     "output_type": "stream",
     "text": [
      "[2, 0, 3, 1, 4, 5, 8, 7, 9]\n"
     ]
    }
   ],
   "source": [
    "_list = [2,0,3,1,4,5,8,7,9]\n",
    "print(_list)"
   ]
  },
  {
   "cell_type": "code",
   "execution_count": 5,
   "metadata": {},
   "outputs": [
    {
     "name": "stdout",
     "output_type": "stream",
     "text": [
      "[1, 3, 0, 2, 4, 5, 7, 6, 8]\n"
     ]
    }
   ],
   "source": [
    "_list = [2,0,3,1,4,5,8,7,9]\n",
    "print(argsort(_list))"
   ]
  }
 ],
 "metadata": {
  "kernelspec": {
   "display_name": "Python 3",
   "language": "python",
   "name": "python3"
  },
  "language_info": {
   "codemirror_mode": {
    "name": "ipython",
    "version": 3
   },
   "file_extension": ".py",
   "mimetype": "text/x-python",
   "name": "python",
   "nbconvert_exporter": "python",
   "pygments_lexer": "ipython3",
   "version": "3.12.2"
  }
 },
 "nbformat": 4,
 "nbformat_minor": 2
}
