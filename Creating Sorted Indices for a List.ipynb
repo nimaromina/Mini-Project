{
 "cells": [
  {
   "cell_type": "code",
   "execution_count": 12,
   "metadata": {},
   "outputs": [],
   "source": [
    "def argsort1(_list):\n",
    "    _list = _list[::]\n",
    "    _max = max(_list)+1\n",
    "    n = len(_list)\n",
    "    lst = []\n",
    "    for i in range(n):\n",
    "        _min = _list.index(min(_list))\n",
    "        lst.append(_min)\n",
    "        _list[_min] = _max\n",
    "    return lst"
   ]
  },
  {
   "cell_type": "code",
   "execution_count": 13,
   "metadata": {},
   "outputs": [],
   "source": [
    "_list = [2,0,3,1,4,5,8,7,9]"
   ]
  },
  {
   "cell_type": "code",
   "execution_count": 5,
   "metadata": {},
   "outputs": [
    {
     "name": "stdout",
     "output_type": "stream",
     "text": [
      "[1, 3, 0, 2, 4, 5, 7, 6, 8]\n"
     ]
    }
   ],
   "source": [
    "_list = [2,0,3,1,4,5,8,7,9]\n",
    "print(argsort(_list))"
   ]
  },
  {
   "cell_type": "code",
   "execution_count": 16,
   "metadata": {},
   "outputs": [
    {
     "name": "stdout",
     "output_type": "stream",
     "text": [
      "[8, 7, 6, 5, 4, 3, 2, 1, 0]\n"
     ]
    }
   ],
   "source": [
    "def argsort2(_list):\n",
    "    lst = list(enumerate(_list))\n",
    "    n = len(lst)\n",
    "    for i in range(n-1):\n",
    "        _min = i\n",
    "        for j in range(i+1,n):\n",
    "            _min = j\n",
    "            lst[i],lst[_min] = lst[_min],lst[i]\n",
    "    return [lst[i][0] for i in range(n)]\n",
    "print(argsort2(_list))"
   ]
  }
 ],
 "metadata": {
  "kernelspec": {
   "display_name": "Python 3",
   "language": "python",
   "name": "python3"
  },
  "language_info": {
   "codemirror_mode": {
    "name": "ipython",
    "version": 3
   },
   "file_extension": ".py",
   "mimetype": "text/x-python",
   "name": "python",
   "nbconvert_exporter": "python",
   "pygments_lexer": "ipython3",
   "version": "3.12.2"
  }
 },
 "nbformat": 4,
 "nbformat_minor": 2
}
