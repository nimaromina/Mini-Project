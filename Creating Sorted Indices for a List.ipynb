{
 "cells": [
  {
   "cell_type": "code",
   "execution_count": 12,
   "metadata": {},
   "outputs": [],
   "source": [
    "def argsort1(_list):\n",
    "    _list = _list[::]\n",
    "    _max = max(_list)+1\n",
    "    n = len(_list)\n",
    "    lst = []\n",
    "    for i in range(n):\n",
    "        _min = _list.index(min(_list))\n",
    "        lst.append(_min)\n",
    "        _list[_min] = _max\n",
    "    return lst"
   ]
  },
  {
   "cell_type": "code",
   "execution_count": 13,
   "metadata": {},
   "outputs": [],
   "source": [
    "_list = [2,0,3,1,4,5,8,7,9]"
   ]
  },
  {
   "cell_type": "code",
   "execution_count": 18,
   "metadata": {},
   "outputs": [
    {
     "name": "stdout",
     "output_type": "stream",
     "text": [
      "[1, 3, 0, 2, 4, 5, 7, 6, 8]\n"
     ]
    }
   ],
   "source": [
    "_list = [2,0,3,1,4,5,8,7,9]\n",
    "print(argsort(_list))"
   ]
  },
  {
   "cell_type": "code",
   "execution_count": 24,
   "metadata": {},
   "outputs": [],
   "source": [
    "def argsort2(_list):\n",
    "    lst = list(enumerate(_list))\n",
    "    n = len(lst)\n",
    "    for i in range(n-1):\n",
    "        _min = i\n",
    "        for j in range(i+1,n):\n",
    "            if lst[_min][1]>lst[j][1]:\n",
    "                _min = j\n",
    "        lst[i],lst[_min] = lst[_min],lst[i]\n",
    "    return [lst[i][0] for i in range(n)]"
   ]
  },
  {
   "cell_type": "code",
   "execution_count": 25,
   "metadata": {},
   "outputs": [
    {
     "data": {
      "text/plain": [
       "[1, 3, 0, 2, 4, 5, 7, 6, 8]"
      ]
     },
     "execution_count": 25,
     "metadata": {},
     "output_type": "execute_result"
    }
   ],
   "source": [
    "argsort2(_list)"
   ]
  },
  {
   "cell_type": "code",
   "execution_count": 44,
   "metadata": {},
   "outputs": [],
   "source": [
    "_list = [2,0,3,1,4,5,8,7,9]"
   ]
  },
  {
   "cell_type": "code",
   "execution_count": 45,
   "metadata": {},
   "outputs": [
    {
     "ename": "IndentationError",
     "evalue": "unindent does not match any outer indentation level (<string>, line 9)",
     "output_type": "error",
     "traceback": [
      "\u001b[1;36m  File \u001b[1;32m<string>:9\u001b[1;36m\u001b[0m\n\u001b[1;33m    _list[i],_list[_min] = _list[_min],_list[i]\u001b[0m\n\u001b[1;37m                                               ^\u001b[0m\n\u001b[1;31mIndentationError\u001b[0m\u001b[1;31m:\u001b[0m unindent does not match any outer indentation level\n"
     ]
    }
   ],
   "source": [
    "\n",
    "_lst = _lst.copy()\n",
    "n = len(_list)\n",
    "lst = [i for i in range(n)]\n",
    "for i in range(n-1):\n",
    "    _min = i\n",
    "    for j in range(i+1,n):\n",
    "         if _list[_min]>_list[j]:\n",
    "            _min = j\n",
    "        _list[i],_list[_min] = _list[_min],_list[i]\n",
    "         lst[i],lst[_min] = lst[_min],lst[i]\n",
    "print(lst)"
   ]
  },
  {
   "cell_type": "code",
   "execution_count": 33,
   "metadata": {},
   "outputs": [
    {
     "ename": "UnboundLocalError",
     "evalue": "cannot access local variable '_lst' where it is not associated with a value",
     "output_type": "error",
     "traceback": [
      "\u001b[1;31m---------------------------------------------------------------------------\u001b[0m",
      "\u001b[1;31mUnboundLocalError\u001b[0m                         Traceback (most recent call last)",
      "Cell \u001b[1;32mIn[33], line 1\u001b[0m\n\u001b[1;32m----> 1\u001b[0m \u001b[43margsort3\u001b[49m\u001b[43m(\u001b[49m\u001b[43m_list\u001b[49m\u001b[43m)\u001b[49m\n",
      "Cell \u001b[1;32mIn[31], line 2\u001b[0m, in \u001b[0;36margsort3\u001b[1;34m(_list)\u001b[0m\n\u001b[0;32m      1\u001b[0m \u001b[38;5;28;01mdef\u001b[39;00m \u001b[38;5;21margsort3\u001b[39m(_list):\n\u001b[1;32m----> 2\u001b[0m     _lst \u001b[38;5;241m=\u001b[39m \u001b[43m_lst\u001b[49m\u001b[38;5;241m.\u001b[39mcopy()\n\u001b[0;32m      3\u001b[0m     n \u001b[38;5;241m=\u001b[39m \u001b[38;5;28mlen\u001b[39m(_list)\n\u001b[0;32m      4\u001b[0m     lst \u001b[38;5;241m=\u001b[39m (i \u001b[38;5;28;01mfor\u001b[39;00m i \u001b[38;5;129;01min\u001b[39;00m rage(n))\n",
      "\u001b[1;31mUnboundLocalError\u001b[0m: cannot access local variable '_lst' where it is not associated with a value"
     ]
    }
   ],
   "source": [
    "argsort3(_list)"
   ]
  }
 ],
 "metadata": {
  "kernelspec": {
   "display_name": "Python 3",
   "language": "python",
   "name": "python3"
  },
  "language_info": {
   "codemirror_mode": {
    "name": "ipython",
    "version": 3
   },
   "file_extension": ".py",
   "mimetype": "text/x-python",
   "name": "python",
   "nbconvert_exporter": "python",
   "pygments_lexer": "ipython3",
   "version": "3.12.2"
  }
 },
 "nbformat": 4,
 "nbformat_minor": 2
}
