{
 "cells": [
  {
   "cell_type": "code",
   "execution_count": 1,
   "metadata": {},
   "outputs": [],
   "source": [
    "def argsort1(_list):\n",
    "    _list = _list[::]\n",
    "    _max = max(_list)+1\n",
    "    n = len(_list)\n",
    "    lst = []\n",
    "    for i in range(n):\n",
    "        _min = _list.index(min(_list))\n",
    "        lst.append(_min)\n",
    "        _list[_min] = _max\n",
    "    return lst"
   ]
  },
  {
   "cell_type": "code",
   "execution_count": 2,
   "metadata": {},
   "outputs": [],
   "source": [
    "_list = [2,0,3,1,4,5,8,7,9]"
   ]
  },
  {
   "cell_type": "code",
   "execution_count": 9,
   "metadata": {},
   "outputs": [
    {
     "name": "stdout",
     "output_type": "stream",
     "text": [
      "[1, 3, 0, 2, 4, 5, 7, 6, 8]\n"
     ]
    }
   ],
   "source": [
    "print(argsort1(_list))"
   ]
  },
  {
   "cell_type": "code",
   "execution_count": 4,
   "metadata": {},
   "outputs": [],
   "source": [
    "def argsort2(_list):\n",
    "    lst = list(enumerate(_list))\n",
    "    n = len(lst)\n",
    "    for i in range(n-1):\n",
    "        _min = i\n",
    "        for j in range(i+1,n):\n",
    "            if lst[_min][1]>lst[j][1]:\n",
    "                _min = j\n",
    "        lst[i],lst[_min] = lst[_min],lst[i]\n",
    "    return [lst[i][0] for i in range(n)]"
   ]
  },
  {
   "cell_type": "code",
   "execution_count": 5,
   "metadata": {},
   "outputs": [
    {
     "data": {
      "text/plain": [
       "[1, 3, 0, 2, 4, 5, 7, 6, 8]"
      ]
     },
     "execution_count": 5,
     "metadata": {},
     "output_type": "execute_result"
    }
   ],
   "source": [
    "argsort2(_list)"
   ]
  },
  {
   "cell_type": "code",
   "execution_count": 6,
   "metadata": {},
   "outputs": [],
   "source": [
    "_list = [2,0,3,1,4,5,8,7,9]"
   ]
  },
  {
   "cell_type": "code",
   "execution_count": 7,
   "metadata": {},
   "outputs": [],
   "source": [
    "def argsort3(_list):\n",
    "    _list = _list.copy()\n",
    "    n = len(_list)\n",
    "    lst = [i for i in range(n)]\n",
    "    for i in range(n-1):\n",
    "        _min = i\n",
    "        for j in range(i+1,n):\n",
    "            if _list[_min]>_list[j]:\n",
    "                _min = j\n",
    "        _list[i],_list[_min] = _list[_min],_list[i]\n",
    "        lst[i],lst[_min] = lst[_min],lst[i]\n",
    "    return lst"
   ]
  },
  {
   "cell_type": "code",
   "execution_count": 8,
   "metadata": {},
   "outputs": [
    {
     "data": {
      "text/plain": [
       "[1, 3, 0, 2, 4, 5, 7, 6, 8]"
      ]
     },
     "execution_count": 8,
     "metadata": {},
     "output_type": "execute_result"
    }
   ],
   "source": [
    "argsort3(_list)"
   ]
  }
 ],
 "metadata": {
  "kernelspec": {
   "display_name": "Python 3",
   "language": "python",
   "name": "python3"
  },
  "language_info": {
   "codemirror_mode": {
    "name": "ipython",
    "version": 3
   },
   "file_extension": ".py",
   "mimetype": "text/x-python",
   "name": "python",
   "nbconvert_exporter": "python",
   "pygments_lexer": "ipython3",
   "version": "3.12.2"
  }
 },
 "nbformat": 4,
 "nbformat_minor": 2
}
