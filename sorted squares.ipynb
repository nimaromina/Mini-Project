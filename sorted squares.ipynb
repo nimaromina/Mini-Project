{
 "cells": [
  {
   "cell_type": "code",
   "execution_count": 2,
   "metadata": {},
   "outputs": [],
   "source": [
    "def sorted_squares(lst):\n",
    "    _lst = []\n",
    "    i = 0\n",
    "    j = len(lst)-1\n",
    "    cell1 = lst[0]**2\n",
    "    cell2 = lst[-1]**2\n",
    "    while i<=j:\n",
    "        cell1 = lst[i]**2\n",
    "        cell2 = lst[j]**2\n",
    "        if cell1>cell2:\n",
    "            _lst.append(cell1)\n",
    "            i += 1\n",
    "        else:\n",
    "            _lst.append(cell2)\n",
    "            j -= 1\n",
    "    return _lst"
   ]
  },
  {
   "cell_type": "code",
   "execution_count": 3,
   "metadata": {},
   "outputs": [
    {
     "data": {
      "text/plain": [
       "[16, 16, 9, 4, 4, 1]"
      ]
     },
     "execution_count": 3,
     "metadata": {},
     "output_type": "execute_result"
    }
   ],
   "source": [
    "lst = [-4,-2,1,2,3,4]\n",
    "sorted_squares(lst)"
   ]
  }
 ],
 "metadata": {
  "kernelspec": {
   "display_name": "Python 3",
   "language": "python",
   "name": "python3"
  },
  "language_info": {
   "codemirror_mode": {
    "name": "ipython",
    "version": 3
   },
   "file_extension": ".py",
   "mimetype": "text/x-python",
   "name": "python",
   "nbconvert_exporter": "python",
   "pygments_lexer": "ipython3",
   "version": "3.12.2"
  }
 },
 "nbformat": 4,
 "nbformat_minor": 2
}
