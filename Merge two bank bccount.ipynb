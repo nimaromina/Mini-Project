{
 "cells": [
  {
   "cell_type": "code",
   "execution_count": 2,
   "metadata": {},
   "outputs": [],
   "source": [
    "class Account:\n",
    "    def __init__(self, balance,owner=\"\"):\n",
    "        self.owner = owner or \"No Name\"\n",
    "        self.balance = balance if balance >= 0 else 0\n",
    "\n",
    "    def deposit(self, amount):\n",
    "        self.balance += amount if amount >0 else 0\n",
    "    \n",
    "    def withdraw(self, amount):\n",
    "        if amount >= 0:\n",
    "            if self.balance >= amount:\n",
    "                self.balance -= amount\n",
    "            else:\n",
    "                print(\"insufficient fouds\")\n",
    "        else:\n",
    "            print(\"Acount shoud not be negetive number.\")\n"
   ]
  },
  {
   "cell_type": "code",
   "execution_count": 19,
   "metadata": {},
   "outputs": [],
   "source": [
    "class Bank:\n",
    "    def __init__(self):\n",
    "        self.accounts = {}\n",
    "        self.id = 1\n",
    "    def new_saving(self,acc):\n",
    "        self.accounts[self.id] = acc\n",
    "        self.id+=1\n",
    "    def merge(self,id1,id2):\n",
    "        if id1 in self.accounts and id2 in self.accounts:\n",
    "            new_account = Account(self.accounts[id1].balance+self.accounts[id2].balance,self.accounts[id1].owner)\n",
    "            del self.accounts[id1]\n",
    "            del self.accounts[id2]\n",
    "            self.accounts[self.id] = new_account\n",
    "            self.id+=1"
   ]
  },
  {
   "cell_type": "code",
   "execution_count": 20,
   "metadata": {},
   "outputs": [],
   "source": [
    "mellat = Bank()\n",
    "mellat.new_saving(Account(600,\"sama\"))\n",
    "mellat.new_saving(Account(400,\"armit\"))\n",
    "mellat.new_saving(Account(1600,\"sara\"))\n",
    "mellat.new_saving(Account(800,\"mani\"))"
   ]
  },
  {
   "cell_type": "code",
   "execution_count": 21,
   "metadata": {},
   "outputs": [
    {
     "data": {
      "text/plain": [
       "{1: <__main__.Account at 0x165b5568890>,\n",
       " 2: <__main__.Account at 0x165b5582210>,\n",
       " 3: <__main__.Account at 0x165b5582510>,\n",
       " 4: <__main__.Account at 0x165b5580da0>}"
      ]
     },
     "execution_count": 21,
     "metadata": {},
     "output_type": "execute_result"
    }
   ],
   "source": [
    "mellat.accounts"
   ]
  },
  {
   "cell_type": "code",
   "execution_count": 22,
   "metadata": {},
   "outputs": [
    {
     "data": {
      "text/plain": [
       "'sara'"
      ]
     },
     "execution_count": 22,
     "metadata": {},
     "output_type": "execute_result"
    }
   ],
   "source": [
    "mellat.accounts[3].owner"
   ]
  },
  {
   "cell_type": "code",
   "execution_count": 23,
   "metadata": {},
   "outputs": [],
   "source": [
    "mellat.merge(1,4)"
   ]
  },
  {
   "cell_type": "code",
   "execution_count": 24,
   "metadata": {},
   "outputs": [
    {
     "data": {
      "text/plain": [
       "{2: <__main__.Account at 0x165b5582210>,\n",
       " 3: <__main__.Account at 0x165b5582510>,\n",
       " 5: <__main__.Account at 0x165b40ed6a0>}"
      ]
     },
     "execution_count": 24,
     "metadata": {},
     "output_type": "execute_result"
    }
   ],
   "source": [
    "mellat.accounts"
   ]
  },
  {
   "cell_type": "code",
   "execution_count": 26,
   "metadata": {},
   "outputs": [
    {
     "data": {
      "text/plain": [
       "1400"
      ]
     },
     "execution_count": 26,
     "metadata": {},
     "output_type": "execute_result"
    }
   ],
   "source": [
    "mellat.accounts[5].balance"
   ]
  }
 ],
 "metadata": {
  "kernelspec": {
   "display_name": "Python 3",
   "language": "python",
   "name": "python3"
  },
  "language_info": {
   "codemirror_mode": {
    "name": "ipython",
    "version": 3
   },
   "file_extension": ".py",
   "mimetype": "text/x-python",
   "name": "python",
   "nbconvert_exporter": "python",
   "pygments_lexer": "ipython3",
   "version": "3.12.2"
  }
 },
 "nbformat": 4,
 "nbformat_minor": 2
}
