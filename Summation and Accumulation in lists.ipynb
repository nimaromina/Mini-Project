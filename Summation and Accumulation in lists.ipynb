{
 "cells": [
  {
   "cell_type": "code",
   "execution_count": 5,
   "metadata": {},
   "outputs": [
    {
     "name": "stdout",
     "output_type": "stream",
     "text": [
      "[23, 22, 20, 18, 17]\n"
     ]
    }
   ],
   "source": [
    "lst = [2,3,5,7,8]\n",
    "_lst = []\n",
    "_sum = 0\n",
    "for i in lst:\n",
    "    _sum += i\n",
    "for i in lst:\n",
    "    _lst.append(_sum-i)\n",
    "print(_lst)\n"
   ]
  },
  {
   "cell_type": "code",
   "execution_count": 3,
   "metadata": {},
   "outputs": [
    {
     "name": "stdout",
     "output_type": "stream",
     "text": [
      "[23, 22, 20, 18, 17]\n"
     ]
    }
   ],
   "source": [
    "lst = [2,3,5,7,8]\n",
    "_sum = sum(lst)\n",
    "_lst = [_sum-i for i in lst]\n",
    "print(_lst)\n"
   ]
  }
 ],
 "metadata": {
  "kernelspec": {
   "display_name": "Python 3",
   "language": "python",
   "name": "python3"
  },
  "language_info": {
   "codemirror_mode": {
    "name": "ipython",
    "version": 3
   },
   "file_extension": ".py",
   "mimetype": "text/x-python",
   "name": "python",
   "nbconvert_exporter": "python",
   "pygments_lexer": "ipython3",
   "version": "3.12.2"
  }
 },
 "nbformat": 4,
 "nbformat_minor": 2
}
